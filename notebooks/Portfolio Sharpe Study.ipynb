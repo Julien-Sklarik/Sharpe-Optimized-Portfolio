{
 "cells":[
  {
   "cell_type":"markdown",
   "source":[
    "Import packages"
   ],
   "outputs":[
    {
     "data":{
      "application\/datalore_markdown_expressions+json":{
       "expressions":{}
      }
     },
     "metadata":{},
     "output_type":"display_data"
    }
   ],
   "attachments":{},
   "metadata":{
    "datalore":{
     "node_id":"ncRIefHKm88gv85554MLiD",
     "type":"MD",
     "hide_input_from_viewers":false,
     "hide_output_from_viewers":false,
     "report_properties":{
      "rowId":"7oB8pWb3lx0IBV7i7rDfSR"
     }
    }
   }
  },
  {
   "cell_type":"code",
   "source":[
    "import numpy as np\n",
    "import pandas as pd\n",
    "from scipy.optimize import minimize\n",
    "import statsmodels.api as sm\n",
    "from joblib import Parallel, delayed\n",
    "from tqdm import tqdm\n",
    "import time"
   ],
   "execution_count":2,
   "outputs":[],
   "metadata":{
    "datalore":{
     "node_id":"0FEDhFBSQnjHf9kYx1jeC4",
     "type":"CODE",
     "hide_input_from_viewers":false,
     "hide_output_from_viewers":false,
     "report_properties":{
      "rowId":"N30FXppqxuuBl2apQhsoyy"
     }
    }
   }
  },
  {
   "cell_type":"markdown",
   "source":[
    "Load data"
   ],
   "outputs":[
    {
     "data":{
      "application\/datalore_markdown_expressions+json":{
       "expressions":{}
      }
     },
     "metadata":{},
     "output_type":"display_data"
    }
   ],
   "attachments":{},
   "metadata":{
    "datalore":{
     "node_id":"nxXMmdaguVgDLOhqvAsSpr",
     "type":"MD",
     "hide_input_from_viewers":false,
     "hide_output_from_viewers":false,
     "report_properties":{
      "rowId":"zp1QMzScFUMEjYvfXe0My1"
     }
    }
   }
  },
  {
   "cell_type":"code",
   "source":[
    "rf = 0.002\n",
    "\n",
    "market = pd.read_csv(\"MarketExcessReturns.csv\", header=None).values.flatten()\n",
    "returns = pd.read_csv(\"MonthlyExcessReturns.csv\", header=None)\n",
    "mu_pop = pd.read_csv(\"ExpectedExcessReturns.csv\", header=None).values.flatten()\n",
    "Sigma_pop = pd.read_csv(\"CovarianceMatrix.csv\", header=None).values\n",
    "\n",
    "T, N = returns.shape"
   ],
   "execution_count":4,
   "outputs":[],
   "metadata":{
    "datalore":{
     "node_id":"I5hEhn95j59sawpUPnaTNB",
     "type":"CODE",
     "hide_input_from_viewers":false,
     "hide_output_from_viewers":false,
     "report_properties":{
      "rowId":"2vhebR0lt5uU1N0wcAHl56"
     }
    }
   }
  },
  {
   "cell_type":"markdown",
   "source":[
    "i. Compute Sharpe ratio of the market"
   ],
   "outputs":[
    {
     "data":{
      "application\/datalore_markdown_expressions+json":{
       "expressions":{}
      }
     },
     "metadata":{},
     "output_type":"display_data"
    }
   ],
   "attachments":{},
   "metadata":{
    "datalore":{
     "node_id":"0bP7M0fab71AfoUv5pE96L",
     "type":"MD",
     "hide_input_from_viewers":false,
     "hide_output_from_viewers":false,
     "report_properties":{
      "rowId":"oH2SRmcgWdeT0Vu3LhYOjT"
     }
    }
   }
  },
  {
   "cell_type":"code",
   "source":[
    "mean_return = np.mean(market)\n",
    "std_return = np.std(market, ddof=0)\n",
    "sharpe_ratio_market = (mean_return - rf) \/ std_return\n",
    "print(f\"Sharpe Ratio of Market Portfolio: {sharpe_ratio_market:.4f}\")"
   ],
   "execution_count":6,
   "outputs":[
    {
     "name":"stdout",
     "text":[
      "Sharpe Ratio of Market Portfolio: 0.1290\n"
     ],
     "output_type":"stream"
    }
   ],
   "metadata":{
    "datalore":{
     "node_id":"y9jem4QQcsvBnEiCnWhems",
     "type":"CODE",
     "hide_input_from_viewers":false,
     "hide_output_from_viewers":false,
     "report_properties":{
      "rowId":"7IU943w8g290bYsH25F1M5"
     }
    }
   }
  },
  {
   "cell_type":"markdown",
   "source":[
    "ii. Sharpe ratio of the 1\/N portfolio"
   ],
   "outputs":[
    {
     "data":{
      "application\/datalore_markdown_expressions+json":{
       "expressions":{}
      }
     },
     "metadata":{},
     "output_type":"display_data"
    }
   ],
   "attachments":{},
   "metadata":{
    "datalore":{
     "node_id":"moTKUqWnEt3CrE02nJtDKV",
     "type":"MD",
     "hide_input_from_viewers":false,
     "hide_output_from_viewers":false,
     "report_properties":{
      "rowId":"AKRlbHPxPk6GRgtrCkJ4Ka"
     }
    }
   }
  },
  {
   "cell_type":"code",
   "source":[
    "w_1N = np.ones(N) \/ N\n",
    "mu_1N = np.dot(w_1N, mu_pop)\n",
    "sigma_1N = np.sqrt(w_1N @ Sigma_pop @ w_1N)\n",
    "sharpe_1N = (mu_1N - rf) \/ sigma_1N\n",
    "\n",
    "print(f\"Sharpe Ratio of 1\/N Portfolio: {sharpe_1N:.4f}\")"
   ],
   "execution_count":8,
   "outputs":[
    {
     "name":"stdout",
     "text":[
      "Sharpe Ratio of 1\/N Portfolio: 0.1180\n"
     ],
     "output_type":"stream"
    }
   ],
   "metadata":{
    "datalore":{
     "node_id":"2VFYhlIXbgKEpknJbwDNbb",
     "type":"CODE",
     "hide_input_from_viewers":false,
     "hide_output_from_viewers":false,
     "report_properties":{
      "rowId":"PxVesLvY7rb9JnyLUw4K3i"
     }
    }
   }
  },
  {
   "cell_type":"markdown",
   "source":[
    "iii. Sharpe Ratio of the Mean-Variance Optimal Portfolio"
   ],
   "outputs":[
    {
     "data":{
      "application\/datalore_markdown_expressions+json":{
       "expressions":{}
      }
     },
     "metadata":{},
     "output_type":"display_data"
    }
   ],
   "attachments":{},
   "metadata":{
    "datalore":{
     "node_id":"RwQY90CxXKilF7eWueqYBy",
     "type":"MD",
     "hide_input_from_viewers":false,
     "hide_output_from_viewers":false,
     "report_properties":{
      "rowId":"HKHHVNbAZenB1zaMqWx6Wl"
     }
    }
   }
  },
  {
   "cell_type":"code",
   "source":[
    "mu_sample = returns.mean().values\n",
    "Sigma_sample = returns.cov().values\n",
    "inv_Sigma_sample = np.linalg.inv(Sigma_sample)\n",
    "\n",
    "w_mv_sample = inv_Sigma_sample @ mu_sample \/ (np.ones(N) @ inv_Sigma_sample @ mu_sample)\n",
    "mu_mv_sample = w_mv_sample @ mu_pop\n",
    "sigma_mv_sample = np.sqrt(w_mv_sample @ Sigma_pop @ w_mv_sample)\n",
    "sharpe_mv_sample = (mu_mv_sample - rf) \/ sigma_mv_sample\n",
    "\n",
    "print(f\"Sharpe Ratio of Mean-Variance Optimal Portfolio: {sharpe_mv_sample:.4f}\")"
   ],
   "execution_count":10,
   "outputs":[
    {
     "name":"stdout",
     "text":[
      "Sharpe Ratio of Mean-Variance Optimal Portfolio: 0.0466\n"
     ],
     "output_type":"stream"
    }
   ],
   "metadata":{
    "datalore":{
     "node_id":"BKYo87LgiEVIBlY2FEIQ9U",
     "type":"CODE",
     "hide_input_from_viewers":false,
     "hide_output_from_viewers":false,
     "report_properties":{
      "rowId":"k8iKp5FoTlL0pqre0jh8Ik"
     }
    }
   }
  },
  {
   "cell_type":"markdown",
   "source":[
    "iv. Sharpe Ratio of the Global Minimum Variance Portfolio"
   ],
   "outputs":[
    {
     "data":{
      "application\/datalore_markdown_expressions+json":{
       "expressions":{}
      }
     },
     "metadata":{},
     "output_type":"display_data"
    }
   ],
   "attachments":{},
   "metadata":{
    "datalore":{
     "node_id":"JavGaAykJC5oO7KCIvJr8c",
     "type":"MD",
     "hide_input_from_viewers":false,
     "hide_output_from_viewers":false,
     "report_properties":{
      "rowId":"BdKVdGM9FRnI23pTQGEoDI"
     }
    }
   }
  },
  {
   "cell_type":"code",
   "source":[
    "w_min_sample = inv_Sigma_sample @ np.ones(N) \/ (np.ones(N) @ inv_Sigma_sample @ np.ones(N))\n",
    "mu_min_sample = w_min_sample @ mu_pop\n",
    "sigma_min_sample = np.sqrt(w_min_sample @ Sigma_pop @ w_min_sample)\n",
    "sharpe_min_sample = (mu_min_sample - rf) \/ sigma_min_sample\n",
    "\n",
    "print(f\"Sharpe Ratio of Global Minimum Variance Portfolio: {sharpe_min_sample:.4f}\")"
   ],
   "execution_count":12,
   "outputs":[
    {
     "name":"stdout",
     "text":[
      "Sharpe Ratio of Global Minimum Variance Portfolio: 0.0078\n"
     ],
     "output_type":"stream"
    }
   ],
   "metadata":{
    "datalore":{
     "node_id":"YDwvWcwJ4w8K1UpLEVGKDG",
     "type":"CODE",
     "hide_input_from_viewers":false,
     "hide_output_from_viewers":false,
     "report_properties":{
      "rowId":"ZiwQjIioN466ljkM2367MD"
     }
    }
   }
  },
  {
   "cell_type":"markdown",
   "source":[
    "v. Sharpe Ratio Using James-Stein-Jorion Shrinkage Estimator"
   ],
   "outputs":[
    {
     "data":{
      "application\/datalore_markdown_expressions+json":{
       "expressions":{}
      }
     },
     "metadata":{},
     "output_type":"display_data"
    }
   ],
   "attachments":{},
   "metadata":{
    "datalore":{
     "node_id":"ZTkl8NSZLcRlNs8lXhnqSW",
     "type":"MD",
     "hide_input_from_viewers":false,
     "hide_output_from_viewers":false,
     "report_properties":{
      "rowId":"MKRMpGS85U0y9WxwR2MFBA"
     }
    }
   }
  },
  {
   "cell_type":"code",
   "source":[
    "# minimum variance portfolio return\n",
    "mu_0 = (np.ones(N) @ inv_Sigma_sample @ mu_sample) \/ (np.ones(N) @ inv_Sigma_sample @ np.ones(N))\n",
    "\n",
    "# shrinkage intensity\n",
    "diff = mu_sample - mu_0\n",
    "v_num = N + 2\n",
    "v_den = N + 2 + T * diff.T @ inv_Sigma_sample @ diff\n",
    "v = v_num \/ v_den\n",
    "\n",
    "# James-Stein-Jorion shrunk mean\n",
    "mu_jsj = (1 - v) * mu_sample + v * mu_0 * np.ones(N)\n",
    "\n",
    "# Optimal weights using shrunk means\n",
    "w_jsj = inv_Sigma_sample @ mu_jsj \/ (np.ones(N) @ inv_Sigma_sample @ mu_jsj)\n",
    "\n",
    "mu_jsj_opt = w_jsj @ mu_pop\n",
    "sigma_jsj_opt = np.sqrt(w_jsj @ Sigma_pop @ w_jsj)\n",
    "sharpe_jsj = (mu_jsj_opt - rf) \/ sigma_jsj_opt\n",
    "\n",
    "print(f\"Sharpe Ratio with James-Stein-Jorion Estimator: {sharpe_jsj:.4f}\")"
   ],
   "execution_count":14,
   "outputs":[
    {
     "name":"stdout",
     "text":[
      "Sharpe Ratio with James-Stein-Jorion Estimator: 0.0443\n"
     ],
     "output_type":"stream"
    }
   ],
   "metadata":{
    "datalore":{
     "node_id":"owwjPUWHlksB8CaPzpwbWM",
     "type":"CODE",
     "hide_input_from_viewers":false,
     "hide_output_from_viewers":false,
     "report_properties":{
      "rowId":"pfN2dZwzg6QyOuGNOua809"
     }
    }
   }
  },
  {
   "cell_type":"markdown",
   "source":[
    "vi. Sharpe Ratio Using CAPM Expected Returns"
   ],
   "outputs":[
    {
     "data":{
      "application\/datalore_markdown_expressions+json":{
       "expressions":{}
      }
     },
     "metadata":{},
     "output_type":"display_data"
    }
   ],
   "attachments":{},
   "metadata":{
    "datalore":{
     "node_id":"bVCrMxu66hCgV8ON9GJrS4",
     "type":"MD",
     "hide_input_from_viewers":false,
     "hide_output_from_viewers":false,
     "report_properties":{
      "rowId":"mwgE6f8edUiZbFnbLFsaD9"
     }
    }
   }
  },
  {
   "cell_type":"code",
   "source":[
    "betas = np.array([\n",
    "    sm.OLS(returns.iloc[:, i], sm.add_constant(market)).fit().params[1]\n",
    "    for i in range(N)\n",
    "])\n",
    "\n",
    "mu_market = np.mean(market)\n",
    "mu_CAPM = rf + betas * (mu_market - rf)\n",
    "\n",
    "w_CAPM = inv_Sigma_sample @ mu_CAPM \/ (np.ones(N) @ inv_Sigma_sample @ mu_CAPM)\n",
    "\n",
    "mu_CAPM_opt = w_CAPM @ mu_pop\n",
    "sigma_CAPM_opt = np.sqrt(w_CAPM @ Sigma_pop @ w_CAPM)\n",
    "sharpe_CAPM = (mu_CAPM_opt - rf) \/ sigma_CAPM_opt\n",
    "\n",
    "print(f\"Sharpe Ratio using CAPM: {sharpe_CAPM:.4f}\")"
   ],
   "execution_count":16,
   "outputs":[
    {
     "name":"stdout",
     "text":[
      "Sharpe Ratio using CAPM: 0.0827\n"
     ],
     "output_type":"stream"
    }
   ],
   "metadata":{
    "datalore":{
     "node_id":"uEiMbIJAyGQ29jXMwcG9Yu",
     "type":"CODE",
     "hide_input_from_viewers":false,
     "hide_output_from_viewers":false,
     "report_properties":{
      "rowId":"8fs0bb5SnW10aMNPQwwiYg"
     }
    }
   }
  },
  {
   "cell_type":"markdown",
   "source":[
    "vii. Sharpe Ratio with No Short-Selling"
   ],
   "outputs":[
    {
     "data":{
      "application\/datalore_markdown_expressions+json":{
       "expressions":{}
      }
     },
     "metadata":{},
     "output_type":"display_data"
    }
   ],
   "attachments":{},
   "metadata":{
    "datalore":{
     "node_id":"onGbtRjnLo07lFEeKZ2Unz",
     "type":"MD",
     "hide_input_from_viewers":false,
     "hide_output_from_viewers":false,
     "report_properties":{
      "rowId":"g29yNYHtm7RFYPcwKQknko"
     }
    }
   }
  },
  {
   "cell_type":"code",
   "source":[
    "def minimize_variance(target_mu, mu_estimate, Sigma_estimate):\n",
    "    def portfolio_variance(w):\n",
    "        return w @ Sigma_estimate @ w\n",
    "    constraints = [\n",
    "        {'type': 'eq', 'fun': lambda w: np.sum(w) - 1},\n",
    "        {'type': 'eq', 'fun': lambda w: w @ mu_estimate - target_mu}\n",
    "    ]\n",
    "    bounds = [(0, None)] * N\n",
    "    initial_w = np.ones(N) \/ N\n",
    "    result = minimize(portfolio_variance, initial_w, bounds=bounds, constraints=constraints)\n",
    "    return result.x if result.success else None\n",
    "\n",
    "target_returns = np.linspace(mu_sample.min(), mu_sample.max(), 100)\n",
    "best_sharpe = -np.inf\n",
    "best_w = None\n",
    "\n",
    "for target_mu in target_returns:\n",
    "    w_candidate = minimize_variance(target_mu, mu_sample, Sigma_sample)\n",
    "    if w_candidate is not None:\n",
    "        mu_true = w_candidate @ mu_pop\n",
    "        sigma_true = np.sqrt(w_candidate @ Sigma_pop @ w_candidate)\n",
    "        sharpe_candidate = (mu_true - rf) \/ sigma_true\n",
    "        if sharpe_candidate > best_sharpe:\n",
    "            best_sharpe = sharpe_candidate\n",
    "            best_w = w_candidate\n",
    "\n",
    "print(f\"Sharpe Ratio with No Short-Selling: {best_sharpe:.4f}\")"
   ],
   "execution_count":18,
   "outputs":[
    {
     "name":"stdout",
     "text":[
      "Sharpe Ratio with No Short-Selling: 0.1124\n"
     ],
     "output_type":"stream"
    }
   ],
   "metadata":{
    "datalore":{
     "node_id":"d1oOGdnZOxExZFU0ibRCLq",
     "type":"CODE",
     "hide_input_from_viewers":false,
     "hide_output_from_viewers":false,
     "report_properties":{
      "rowId":"R8mblmPdTyUScPtIsVaHsk"
     }
    }
   }
  },
  {
   "cell_type":"markdown",
   "source":[
    "c)"
   ],
   "outputs":[
    {
     "data":{
      "application\/datalore_markdown_expressions+json":{
       "expressions":{}
      }
     },
     "metadata":{},
     "output_type":"display_data"
    }
   ],
   "attachments":{},
   "metadata":{
    "datalore":{
     "node_id":"OBF3P0BR3mqtQ68m84SkdZ",
     "type":"MD",
     "hide_input_from_viewers":false,
     "hide_output_from_viewers":false,
     "report_properties":{
      "rowId":"UMdKU1MZjANMFw4iWPcESd"
     }
    }
   }
  },
  {
   "cell_type":"code",
   "source":[
    "rf = 0.002\n",
    "re_M = 0.008  # 0.8% per month\n",
    "q = 0.05\n",
    "N = 50\n",
    "T = 360\n",
    "num_simulations = 1000\n",
    "\n",
    "simulated_datasets = []\n",
    "\n",
    "for sim in range(num_simulations):\n",
    "    beta = np.random.uniform(0.5, 1.5, N)\n",
    "    alpha = np.random.uniform(0.1, 0.3, N)\n",
    "    \n",
    "    factor_returns = np.random.normal(0, q, T)\n",
    "    \n",
    "    returns_sim = np.zeros((T, N))\n",
    "    for n in range(N):\n",
    "        epsilon = np.random.normal(0, 1, T)\n",
    "        returns_sim[:, n] = (rf + re_M * beta[n]) + beta[n] * factor_returns + alpha[n] * epsilon\n",
    "\n",
    "    mu_pop_sim = rf + re_M * beta\n",
    "    Sigma_pop_sim = np.diag(alpha**2) + q**2 * np.outer(beta, beta)\n",
    "\n",
    "    simulated_datasets.append({\n",
    "        \"returns\": returns_sim,\n",
    "        \"mu_pop\": mu_pop_sim,\n",
    "        \"Sigma_pop\": Sigma_pop_sim\n",
    "    })"
   ],
   "execution_count":20,
   "outputs":[],
   "metadata":{
    "datalore":{
     "node_id":"3tNvfsvrnoUKehbBfdaxyQ",
     "type":"CODE",
     "hide_input_from_viewers":false,
     "hide_output_from_viewers":false,
     "report_properties":{
      "rowId":"ymXbSwCrzJzvOlGozqyHIo"
     }
    }
   }
  },
  {
   "cell_type":"code",
   "source":[
    "ones_N = np.ones(N)\n",
    "\n",
    "def minimize_variance(target_mu, mu_estimate, Sigma_estimate):\n",
    "    def portfolio_variance(w):\n",
    "        return w @ Sigma_estimate @ w\n",
    "    constraints = [\n",
    "        {'type': 'eq', 'fun': lambda w: w.sum() - 1},\n",
    "        {'type': 'eq', 'fun': lambda w: w @ mu_estimate - target_mu}\n",
    "    ]\n",
    "    bounds = [(0, None)] * N\n",
    "    initial_w = ones_N \/ N\n",
    "    result = minimize(portfolio_variance, initial_w, method='SLSQP',\n",
    "                      bounds=bounds, constraints=constraints,\n",
    "                      options={'maxiter': 200, 'ftol': 1e-6})\n",
    "    return result.x if result.success else None\n",
    "\n",
    "def process_simulation(sim_data):\n",
    "    returns = sim_data[\"returns\"]\n",
    "    mu_pop, Sigma_pop = sim_data[\"mu_pop\"], sim_data[\"Sigma_pop\"]\n",
    "\n",
    "    mu_sample = returns.mean(axis=0)\n",
    "    Sigma_sample = np.cov(returns, rowvar=False)\n",
    "    inv_Sigma_sample = np.linalg.inv(Sigma_sample)\n",
    "\n",
    "    market_weights = ones_N \/ N\n",
    "    market = returns @ market_weights\n",
    "\n",
    "    # i.\n",
    "    sharpe_market = (market.mean() - rf) \/ market.std(ddof=0)\n",
    "\n",
    "    # ii.\n",
    "    sigma_1N = np.sqrt(market_weights @ Sigma_pop @ market_weights)\n",
    "    sharpe_1N = (market_weights @ mu_pop - rf) \/ sigma_1N\n",
    "\n",
    "    # iii.\n",
    "    num_mv = inv_Sigma_sample @ mu_sample\n",
    "    w_mv = num_mv \/ (ones_N @ num_mv)\n",
    "    sigma_mv = np.sqrt(w_mv @ Sigma_pop @ w_mv)\n",
    "    sharpe_mv = (w_mv @ mu_pop - rf) \/ sigma_mv\n",
    "\n",
    "    # iv.\n",
    "    num_min = inv_Sigma_sample @ ones_N\n",
    "    w_min = num_min \/ (ones_N @ num_min)\n",
    "    sigma_min = np.sqrt(w_min @ Sigma_pop @ w_min)\n",
    "    sharpe_min = (w_min @ mu_pop - rf) \/ sigma_min\n",
    "\n",
    "    # v.\n",
    "    mu_0 = (ones_N @ num_mv) \/ (ones_N @ num_min)\n",
    "    diff = mu_sample - mu_0\n",
    "    v = (N + 2) \/ (N + 2 + T * diff @ inv_Sigma_sample @ diff)\n",
    "    mu_jsj = (1 - v) * mu_sample + v * mu_0\n",
    "    num_jsj = inv_Sigma_sample @ mu_jsj\n",
    "    w_jsj = num_jsj \/ (ones_N @ num_jsj)\n",
    "    sigma_jsj = np.sqrt(w_jsj @ Sigma_pop @ w_jsj)\n",
    "    sharpe_jsj = (w_jsj @ mu_pop - rf) \/ sigma_jsj\n",
    "\n",
    "    # vi.\n",
    "    market_centered = market - market.mean()\n",
    "    market_var = np.var(market, ddof=0)\n",
    "    returns_centered = returns - returns.mean(axis=0)\n",
    "    betas = returns_centered.T @ market_centered \/ (T * market_var)\n",
    "    mu_CAPM = rf + betas * (market.mean() - rf)\n",
    "    num_capm = inv_Sigma_sample @ mu_CAPM\n",
    "    w_CAPM = num_capm \/ (ones_N @ num_capm)\n",
    "    sigma_CAPM = np.sqrt(w_CAPM @ Sigma_pop @ w_CAPM)\n",
    "    sharpe_CAPM = (w_CAPM @ mu_pop - rf) \/ sigma_CAPM\n",
    "\n",
    "    # vii.\n",
    "    best_sharpe_cmv = -np.inf\n",
    "    target_returns = np.linspace(np.percentile(mu_sample, 5), np.percentile(mu_sample, 95), 50)\n",
    "    for target_mu in target_returns:\n",
    "        w_cmv = minimize_variance(target_mu, mu_sample, Sigma_sample)\n",
    "        if w_cmv is not None:\n",
    "            mu_true = w_cmv @ mu_pop\n",
    "            sigma_true = np.sqrt(w_cmv @ Sigma_pop @ w_cmv)\n",
    "            sharpe_candidate = (mu_true - rf) \/ sigma_true\n",
    "            if sharpe_candidate > best_sharpe_cmv:\n",
    "                best_sharpe_cmv = sharpe_candidate\n",
    "\n",
    "    return [\n",
    "        sharpe_market,\n",
    "        sharpe_1N,\n",
    "        sharpe_mv,\n",
    "        sharpe_min,\n",
    "        sharpe_jsj,\n",
    "        sharpe_CAPM,\n",
    "        best_sharpe_cmv\n",
    "    ]"
   ],
   "execution_count":21,
   "outputs":[],
   "metadata":{
    "datalore":{
     "node_id":"b2SBeCO6vta0BenWgmsfXG",
     "type":"CODE",
     "hide_input_from_viewers":false,
     "hide_output_from_viewers":false,
     "report_properties":{
      "rowId":"gb3iz50GcKhsBEq3T8ezDN"
     }
    }
   }
  },
  {
   "cell_type":"code",
   "source":[
    "start = time.time()\n",
    "\n",
    "# Run simulations in parallel\n",
    "results = Parallel(n_jobs=-1, backend='loky')(\n",
    "    delayed(process_simulation)(sim) for sim in tqdm(simulated_datasets, desc=\"Simulating\", unit=\"sim\")\n",
    ")\n",
    "\n",
    "end = time.time()\n",
    "print(f\"\\nCompleted in {end - start:.2f} seconds.\")\n",
    "\n",
    "# Unpack results\n",
    "sharpe_market_list, sharpe_1N_list, sharpe_mv_list = [], [], []\n",
    "sharpe_min_list, sharpe_jsj_list, sharpe_CAPM_list, sharpe_cmv_list = [], [], [], []\n",
    "\n",
    "for res in results:\n",
    "    s_m, s_1N, s_mv, s_min, s_jsj, s_capm, s_cmv = res\n",
    "    sharpe_market_list.append(s_m)\n",
    "    sharpe_1N_list.append(s_1N)\n",
    "    sharpe_mv_list.append(s_mv)\n",
    "    sharpe_min_list.append(s_min)\n",
    "    sharpe_jsj_list.append(s_jsj)\n",
    "    sharpe_CAPM_list.append(s_capm)\n",
    "    sharpe_cmv_list.append(s_cmv)"
   ],
   "execution_count":22,
   "outputs":[
    {
     "name":"stdout",
     "text":[
      "\n",
      "Completed in 5324.69 seconds.\n"
     ],
     "output_type":"stream"
    },
    {
     "name":"stderr",
     "text":[
      "\rSimulating:   0%|          | 0\/1000 [00:00<?, ?sim\/s]\rSimulating:   0%|          | 2\/1000 [00:00<01:16, 13.12sim\/s]\rSimulating:   0%|          | 4\/1000 [00:10<49:43,  3.00s\/sim]\rSimulating:   1%|          | 6\/1000 [00:18<57:28,  3.47s\/sim]\rSimulating:   1%|          | 8\/1000 [00:28<1:06:23,  4.02s\/sim]\rSimulating:   1%|          | 10\/1000 [00:37<1:10:08,  4.25s\/sim]\rSimulating:   1%|          | 12\/1000 [00:44<1:07:01,  4.07s\/sim]\rSimulating:   1%|▏         | 14\/1000 [00:52<1:05:51,  4.01s\/sim]\rSimulating:   2%|▏         | 16\/1000 [01:00<1:05:35,  4.00s\/sim]\rSimulating:   2%|▏         | 18\/1000 [01:08<1:04:35,  3.95s\/sim]\rSimulating:   2%|▏         | 20\/1000 [01:15<1:02:46,  3.84s\/sim]\rSimulating:   2%|▏         | 22\/1000 [01:21<58:06,  3.57s\/sim]  \rSimulating:   2%|▏         | 24\/1000 [01:28<57:18,  3.52s\/sim]\rSimulating:   3%|▎         | 26\/1000 [01:33<53:35,  3.30s\/sim]\rSimulating:   3%|▎         | 28\/1000 [01:39<50:55,  3.14s\/sim]\rSimulating:   3%|▎         | 30\/1000 [01:45<51:23,  3.18s\/sim]\rSimulating:   3%|▎         | 32\/1000 [01:52<51:13,  3.18s\/sim]\rSimulating:   3%|▎         | 34\/1000 [01:58<50:47,  3.15s\/sim]\rSimulating:   4%|▎         | 36\/1000 [02:05<52:20,  3.26s\/sim]\rSimulating:   4%|▍         | 38\/1000 [02:12<53:25,  3.33s\/sim]\rSimulating:   4%|▍         | 40\/1000 [02:18<52:36,  3.29s\/sim]\rSimulating:   4%|▍         | 42\/1000 [02:24<51:49,  3.25s\/sim]\rSimulating:   4%|▍         | 44\/1000 [02:32<54:34,  3.42s\/sim]\rSimulating:   5%|▍         | 46\/1000 [02:38<53:11,  3.34s\/sim]\rSimulating:   5%|▍         | 48\/1000 [02:44<49:26,  3.12s\/sim]\rSimulating:   5%|▌         | 50\/1000 [02:50<50:25,  3.18s\/sim]\rSimulating:   5%|▌         | 52\/1000 [02:58<54:03,  3.42s\/sim]\rSimulating:   5%|▌         | 54\/1000 [03:03<49:28,  3.14s\/sim]\rSimulating:   6%|▌         | 56\/1000 [03:07<44:33,  2.83s\/sim]\rSimulating:   6%|▌         | 58\/1000 [03:12<42:16,  2.69s\/sim]\rSimulating:   6%|▌         | 60\/1000 [03:16<39:23,  2.51s\/sim]\rSimulating:   6%|▌         | 62\/1000 [03:21<37:40,  2.41s\/sim]\rSimulating:   6%|▋         | 64\/1000 [03:26<37:38,  2.41s\/sim]\rSimulating:   7%|▋         | 66\/1000 [03:30<36:02,  2.32s\/sim]\rSimulating:   7%|▋         | 68\/1000 [03:34<34:22,  2.21s\/sim]\rSimulating:   7%|▋         | 70\/1000 [03:38<34:48,  2.25s\/sim]\rSimulating:   7%|▋         | 72\/1000 [03:43<35:00,  2.26s\/sim]\rSimulating:   7%|▋         | 74\/1000 [03:47<34:16,  2.22s\/sim]\rSimulating:   8%|▊         | 76\/1000 [03:52<34:47,  2.26s\/sim]\rSimulating:   8%|▊         | 78\/1000 [03:57<36:00,  2.34s\/sim]\rSimulating:   8%|▊         | 80\/1000 [04:02<37:02,  2.42s\/sim]\rSimulating:   8%|▊         | 82\/1000 [04:07<36:02,  2.36s\/sim]\rSimulating:   8%|▊         | 84\/1000 [04:11<36:13,  2.37s\/sim]\rSimulating:   9%|▊         | 86\/1000 [04:16<35:45,  2.35s\/sim]\rSimulating:   9%|▉         | 88\/1000 [04:21<36:40,  2.41s\/sim]\rSimulating:   9%|▉         | 90\/1000 [04:26<36:38,  2.42s\/sim]\rSimulating:   9%|▉         | 92\/1000 [04:31<35:54,  2.37s\/sim]\rSimulating:   9%|▉         | 94\/1000 [04:34<34:00,  2.25s\/sim]\rSimulating:  10%|▉         | 96\/1000 [04:39<33:40,  2.23s\/sim]\rSimulating:  10%|▉         | 98\/1000 [04:43<33:48,  2.25s\/sim]\rSimulating:  10%|█         | 100\/1000 [04:48<34:01,  2.27s\/sim]\rSimulating:  10%|█         | 102\/1000 [04:52<33:12,  2.22s\/sim]\rSimulating:  10%|█         | 104\/1000 [04:57<34:14,  2.29s\/sim]\rSimulating:  11%|█         | 106\/1000 [05:02<35:41,  2.39s\/sim]\rSimulating:  11%|█         | 108\/1000 [05:07<35:58,  2.42s\/sim]\rSimulating:  11%|█         | 110\/1000 [05:12<36:16,  2.45s\/sim]\rSimulating:  11%|█         | 112\/1000 [05:17<35:35,  2.40s\/sim]\rSimulating:  11%|█▏        | 114\/1000 [05:22<36:14,  2.45s\/sim]\rSimulating:  12%|█▏        | 116\/1000 [05:27<36:07,  2.45s\/sim]\rSimulating:  12%|█▏        | 118\/1000 [05:31<34:29,  2.35s\/sim]\rSimulating:  12%|█▏        | 120\/1000 [05:36<34:38,  2.36s\/sim]\rSimulating:  12%|█▏        | 122\/1000 [05:41<35:04,  2.40s\/sim]\rSimulating:  12%|█▏        | 124\/1000 [05:46<34:54,  2.39s\/sim]\rSimulating:  13%|█▎        | 126\/1000 [05:50<33:07,  2.27s\/sim]\rSimulating:  13%|█▎        | 128\/1000 [05:54<32:53,  2.26s\/sim]\rSimulating:  13%|█▎        | 130\/1000 [05:59<33:56,  2.34s\/sim]\rSimulating:  13%|█▎        | 132\/1000 [06:04<34:39,  2.40s\/sim]\rSimulating:  13%|█▎        | 134\/1000 [06:09<33:45,  2.34s\/sim]\rSimulating:  14%|█▎        | 136\/1000 [06:13<32:18,  2.24s\/sim]\rSimulating:  14%|█▍        | 138\/1000 [06:18<34:15,  2.38s\/sim]\rSimulating:  14%|█▍        | 140\/1000 [06:23<33:33,  2.34s\/sim]\rSimulating:  14%|█▍        | 142\/1000 [06:27<33:05,  2.31s\/sim]\rSimulating:  14%|█▍        | 144\/1000 [06:32<33:27,  2.35s\/sim]\rSimulating:  15%|█▍        | 146\/1000 [06:37<32:54,  2.31s\/sim]\rSimulating:  15%|█▍        | 148\/1000 [06:41<33:01,  2.33s\/sim]\rSimulating:  15%|█▌        | 150\/1000 [06:45<31:59,  2.26s\/sim]\rSimulating:  15%|█▌        | 152\/1000 [06:50<32:41,  2.31s\/sim]\rSimulating:  15%|█▌        | 154\/1000 [06:55<32:49,  2.33s\/sim]\rSimulating:  16%|█▌        | 156\/1000 [07:00<32:35,  2.32s\/sim]\rSimulating:  16%|█▌        | 158\/1000 [07:04<32:01,  2.28s\/sim]\rSimulating:  16%|█▌        | 160\/1000 [07:09<31:50,  2.27s\/sim]\rSimulating:  16%|█▌        | 162\/1000 [07:13<31:29,  2.26s\/sim]\rSimulating:  16%|█▋        | 164\/1000 [07:17<31:19,  2.25s\/sim]\rSimulating:  17%|█▋        | 166\/1000 [07:22<32:21,  2.33s\/sim]\rSimulating:  17%|█▋        | 168\/1000 [07:27<31:58,  2.31s\/sim]\rSimulating:  17%|█▋        | 170\/1000 [07:32<32:19,  2.34s\/sim]\rSimulating:  17%|█▋        | 172\/1000 [07:36<31:12,  2.26s\/sim]\rSimulating:  17%|█▋        | 174\/1000 [07:41<31:21,  2.28s\/sim]\rSimulating:  18%|█▊        | 176\/1000 [07:45<30:29,  2.22s\/sim]\rSimulating:  18%|█▊        | 178\/1000 [07:49<29:53,  2.18s\/sim]\rSimulating:  18%|█▊        | 180\/1000 [07:53<29:36,  2.17s\/sim]\rSimulating:  18%|█▊        | 182\/1000 [07:58<30:26,  2.23s\/sim]\rSimulating:  18%|█▊        | 184\/1000 [08:03<31:32,  2.32s\/sim]\rSimulating:  19%|█▊        | 186\/1000 [08:08<32:13,  2.38s\/sim]\rSimulating:  19%|█▉        | 188\/1000 [08:13<32:09,  2.38s\/sim]\rSimulating:  19%|█▉        | 190\/1000 [08:18<32:41,  2.42s\/sim]\rSimulating:  19%|█▉        | 192\/1000 [08:22<31:42,  2.35s\/sim]\rSimulating:  19%|█▉        | 194\/1000 [08:28<33:22,  2.49s\/sim]\rSimulating:  20%|█▉        | 196\/1000 [08:33<32:52,  2.45s\/sim]\rSimulating:  20%|█▉        | 198\/1000 [08:37<32:35,  2.44s\/sim]\rSimulating:  20%|██        | 200\/1000 [08:43<33:29,  2.51s\/sim]\rSimulating:  20%|██        | 202\/1000 [08:48<32:58,  2.48s\/sim]\rSimulating:  20%|██        | 204\/1000 [08:52<32:24,  2.44s\/sim]\rSimulating:  21%|██        | 206\/1000 [08:57<31:45,  2.40s\/sim]\rSimulating:  21%|██        | 208\/1000 [09:02<32:17,  2.45s\/sim]\rSimulating:  21%|██        | 210\/1000 [09:07<33:18,  2.53s\/sim]\rSimulating:  21%|██        | 212\/1000 [09:13<33:45,  2.57s\/sim]\rSimulating:  21%|██▏       | 214\/1000 [09:18<33:30,  2.56s\/sim]\rSimulating:  22%|██▏       | 216\/1000 [09:22<32:16,  2.47s\/sim]\rSimulating:  22%|██▏       | 218\/1000 [09:27<31:28,  2.41s\/sim]\rSimulating:  22%|██▏       | 220\/1000 [09:32<31:09,  2.40s\/sim]\rSimulating:  22%|██▏       | 222\/1000 [09:36<30:27,  2.35s\/sim]\rSimulating:  22%|██▏       | 224\/1000 [09:40<29:40,  2.29s\/sim]\rSimulating:  23%|██▎       | 226\/1000 [09:45<29:02,  2.25s\/sim]\rSimulating:  23%|██▎       | 228\/1000 [09:49<28:14,  2.19s\/sim]\rSimulating:  23%|██▎       | 230\/1000 [09:54<29:10,  2.27s\/sim]\rSimulating:  23%|██▎       | 232\/1000 [09:58<29:14,  2.28s\/sim]\rSimulating:  23%|██▎       | 234\/1000 [10:03<28:30,  2.23s\/sim]\rSimulating:  24%|██▎       | 236\/1000 [10:08<29:36,  2.32s\/sim]\rSimulating:  24%|██▍       | 238\/1000 [10:13<30:26,  2.40s\/sim]\rSimulating:  24%|██▍       | 240\/1000 [10:17<29:59,  2.37s\/sim]\rSimulating:  24%|██▍       | 242\/1000 [10:22<29:52,  2.37s\/sim]\rSimulating:  24%|██▍       | 244\/1000 [10:27<29:48,  2.37s\/sim]\rSimulating:  25%|██▍       | 246\/1000 [10:32<30:06,  2.40s\/sim]\rSimulating:  25%|██▍       | 248\/1000 [10:36<29:05,  2.32s\/sim]\rSimulating:  25%|██▌       | 250\/1000 [10:40<27:58,  2.24s\/sim]\rSimulating:  25%|██▌       | 252\/1000 [10:45<28:20,  2.27s\/sim]\rSimulating:  25%|██▌       | 254\/1000 [10:50<29:21,  2.36s\/sim]\rSimulating:  26%|██▌       | 256\/1000 [10:55<29:59,  2.42s\/sim]\rSimulating:  26%|██▌       | 258\/1000 [11:00<30:10,  2.44s\/sim]\rSimulating:  26%|██▌       | 260\/1000 [11:05<30:24,  2.47s\/sim]\rSimulating:  26%|██▌       | 262\/1000 [11:10<29:59,  2.44s\/sim]\rSimulating:  26%|██▋       | 264\/1000 [11:15<29:46,  2.43s\/sim]\rSimulating:  27%|██▋       | 266\/1000 [11:19<29:09,  2.38s\/sim]\rSimulating:  27%|██▋       | 268\/1000 [11:24<28:31,  2.34s\/sim]\rSimulating:  27%|██▋       | 270\/1000 [11:28<27:59,  2.30s\/sim]\rSimulating:  27%|██▋       | 272\/1000 [11:33<28:44,  2.37s\/sim]\rSimulating:  27%|██▋       | 274\/1000 [11:38<28:03,  2.32s\/sim]\rSimulating:  28%|██▊       | 276\/1000 [11:43<28:29,  2.36s\/sim]\rSimulating:  28%|██▊       | 278\/1000 [11:47<28:38,  2.38s\/sim]\rSimulating:  28%|██▊       | 280\/1000 [11:52<27:44,  2.31s\/sim]\rSimulating:  28%|██▊       | 282\/1000 [11:57<28:08,  2.35s\/sim]\rSimulating:  28%|██▊       | 284\/1000 [12:01<28:20,  2.38s\/sim]\rSimulating:  29%|██▊       | 286\/1000 [12:07<29:02,  2.44s\/sim]\rSimulating:  29%|██▉       | 288\/1000 [12:11<28:30,  2.40s\/sim]\rSimulating:  29%|██▉       | 290\/1000 [12:16<28:37,  2.42s\/sim]\rSimulating:  29%|██▉       | 292\/1000 [12:21<28:15,  2.39s\/sim]\rSimulating:  29%|██▉       | 294\/1000 [12:26<28:22,  2.41s\/sim]\rSimulating:  30%|██▉       | 296\/1000 [12:31<28:22,  2.42s\/sim]\rSimulating:  30%|██▉       | 298\/1000 [12:35<27:59,  2.39s\/sim]\rSimulating:  30%|███       | 300\/1000 [12:40<27:43,  2.38s\/sim]\rSimulating:  30%|███       | 302\/1000 [12:45<27:57,  2.40s\/sim]\rSimulating:  30%|███       | 304\/1000 [12:50<28:30,  2.46s\/sim]\rSimulating:  31%|███       | 306\/1000 [12:55<27:38,  2.39s\/sim]\rSimulating:  31%|███       | 308\/1000 [12:59<27:40,  2.40s\/sim]\rSimulating:  31%|███       | 310\/1000 [13:04<27:50,  2.42s\/sim]\rSimulating:  31%|███       | 312\/1000 [13:09<27:49,  2.43s\/sim]\rSimulating:  31%|███▏      | 314\/1000 [13:14<27:18,  2.39s\/sim]\rSimulating:  32%|███▏      | 316\/1000 [13:18<26:23,  2.32s\/sim]\rSimulating:  32%|███▏      | 318\/1000 [13:23<26:30,  2.33s\/sim]\rSimulating:  32%|███▏      | 320\/1000 [13:27<26:07,  2.30s\/sim]\rSimulating:  32%|███▏      | 322\/1000 [13:32<26:34,  2.35s\/sim]\rSimulating:  32%|███▏      | 324\/1000 [13:37<26:42,  2.37s\/sim]\rSimulating:  33%|███▎      | 326\/1000 [13:42<27:12,  2.42s\/sim]\rSimulating:  33%|███▎      | 328\/1000 [13:47<27:11,  2.43s\/sim]\rSimulating:  33%|███▎      | 330\/1000 [13:51<25:31,  2.29s\/sim]\rSimulating:  33%|███▎      | 332\/1000 [13:56<26:51,  2.41s\/sim]\rSimulating:  33%|███▎      | 334\/1000 [14:01<26:41,  2.40s\/sim]\rSimulating:  34%|███▎      | 336\/1000 [14:06<26:50,  2.43s\/sim]\rSimulating:  34%|███▍      | 338\/1000 [14:11<27:21,  2.48s\/sim]\rSimulating:  34%|███▍      | 340\/1000 [14:16<26:19,  2.39s\/sim]\rSimulating:  34%|███▍      | 342\/1000 [14:20<25:15,  2.30s\/sim]\rSimulating:  34%|███▍      | 344\/1000 [14:24<24:56,  2.28s\/sim]\rSimulating:  35%|███▍      | 346\/1000 [14:30<26:00,  2.39s\/sim]\rSimulating:  35%|███▍      | 348\/1000 [14:34<26:03,  2.40s\/sim]\rSimulating:  35%|███▌      | 350\/1000 [14:39<25:52,  2.39s\/sim]\rSimulating:  35%|███▌      | 352\/1000 [14:44<26:16,  2.43s\/sim]\rSimulating:  35%|███▌      | 354\/1000 [14:49<26:25,  2.45s\/sim]\rSimulating:  36%|███▌      | 356\/1000 [14:54<25:59,  2.42s\/sim]\rSimulating:  36%|███▌      | 358\/1000 [14:59<25:44,  2.41s\/sim]\rSimulating:  36%|███▌      | 360\/1000 [15:04<26:22,  2.47s\/sim]\rSimulating:  36%|███▌      | 362\/1000 [15:08<25:02,  2.35s\/sim]\rSimulating:  36%|███▋      | 364\/1000 [15:13<24:55,  2.35s\/sim]\rSimulating:  37%|███▋      | 366\/1000 [15:18<25:15,  2.39s\/sim]\rSimulating:  37%|███▋      | 368\/1000 [15:23<25:22,  2.41s\/sim]\rSimulating:  37%|███▋      | 370\/1000 [15:27<25:18,  2.41s\/sim]\rSimulating:  37%|███▋      | 372\/1000 [15:32<25:04,  2.40s\/sim]\rSimulating:  37%|███▋      | 374\/1000 [15:37<24:39,  2.36s\/sim]\rSimulating:  38%|███▊      | 376\/1000 [15:42<25:24,  2.44s\/sim]\rSimulating:  38%|███▊      | 378\/1000 [15:47<25:35,  2.47s\/sim]\rSimulating:  38%|███▊      | 380\/1000 [15:52<25:31,  2.47s\/sim]\rSimulating:  38%|███▊      | 382\/1000 [15:57<25:31,  2.48s\/sim]\rSimulating:  38%|███▊      | 384\/1000 [16:02<25:09,  2.45s\/sim]\rSimulating:  39%|███▊      | 386\/1000 [16:06<23:39,  2.31s\/sim]\rSimulating:  39%|███▉      | 388\/1000 [16:10<23:32,  2.31s\/sim]\rSimulating:  39%|███▉      | 390\/1000 [16:16<24:45,  2.44s\/sim]\rSimulating:  39%|███▉      | 392\/1000 [16:21<25:02,  2.47s\/sim]\rSimulating:  39%|███▉      | 394\/1000 [16:26<24:31,  2.43s\/sim]\rSimulating:  40%|███▉      | 396\/1000 [16:30<23:24,  2.33s\/sim]\rSimulating:  40%|███▉      | 398\/1000 [16:35<24:17,  2.42s\/sim]\rSimulating:  40%|████      | 400\/1000 [16:40<24:32,  2.45s\/sim]\rSimulating:  40%|████      | 402\/1000 [16:45<24:13,  2.43s\/sim]\rSimulating:  40%|████      | 404\/1000 [16:50<24:00,  2.42s\/sim]\rSimulating:  41%|████      | 406\/1000 [16:54<22:59,  2.32s\/sim]\rSimulating:  41%|████      | 408\/1000 [16:58<22:25,  2.27s\/sim]\rSimulating:  41%|████      | 410\/1000 [17:03<23:00,  2.34s\/sim]\rSimulating:  41%|████      | 412\/1000 [17:08<23:23,  2.39s\/sim]\rSimulating:  41%|████▏     | 414\/1000 [17:13<22:58,  2.35s\/sim]\rSimulating:  42%|████▏     | 416\/1000 [17:18<23:22,  2.40s\/sim]\rSimulating:  42%|████▏     | 418\/1000 [17:23<23:51,  2.46s\/sim]\rSimulating:  42%|████▏     | 420\/1000 [17:28<23:52,  2.47s\/sim]\rSimulating:  42%|████▏     | 422\/1000 [17:33<23:59,  2.49s\/sim]\rSimulating:  42%|████▏     | 424\/1000 [17:38<23:29,  2.45s\/sim]\rSimulating:  43%|████▎     | 426\/1000 [17:42<23:01,  2.41s\/sim]\rSimulating:  43%|████▎     | 428\/1000 [17:47<22:43,  2.38s\/sim]\rSimulating:  43%|████▎     | 430\/1000 [17:51<22:19,  2.35s\/sim]\rSimulating:  43%|████▎     | 432\/1000 [17:56<22:01,  2.33s\/sim]\rSimulating:  43%|████▎     | 434\/1000 [18:01<21:49,  2.31s\/sim]\rSimulating:  44%|████▎     | 436\/1000 [18:05<21:59,  2.34s\/sim]\rSimulating:  44%|████▍     | 438\/1000 [18:11<22:32,  2.41s\/sim]\rSimulating:  44%|████▍     | 440\/1000 [18:15<21:58,  2.35s\/sim]\rSimulating:  44%|████▍     | 442\/1000 [18:20<22:08,  2.38s\/sim]\rSimulating:  44%|████▍     | 444\/1000 [18:25<22:11,  2.40s\/sim]\rSimulating:  45%|████▍     | 446\/1000 [18:29<21:46,  2.36s\/sim]\rSimulating:  45%|████▍     | 448\/1000 [18:34<21:46,  2.37s\/sim]\rSimulating:  45%|████▌     | 450\/1000 [18:39<21:56,  2.39s\/sim]\rSimulating:  45%|████▌     | 452\/1000 [18:44<21:37,  2.37s\/sim]\rSimulating:  45%|████▌     | 454\/1000 [18:48<21:12,  2.33s\/sim]\rSimulating:  46%|████▌     | 456\/1000 [18:53<21:12,  2.34s\/sim]\rSimulating:  46%|████▌     | 458\/1000 [18:58<21:30,  2.38s\/sim]\rSimulating:  46%|████▌     | 460\/1000 [19:03<21:26,  2.38s\/sim]\rSimulating:  46%|████▌     | 462\/1000 [19:07<21:07,  2.36s\/sim]\rSimulating:  46%|████▋     | 464\/1000 [19:11<19:43,  2.21s\/sim]\rSimulating:  47%|████▋     | 466\/1000 [19:16<20:06,  2.26s\/sim]\rSimulating:  47%|████▋     | 468\/1000 [19:20<19:43,  2.23s\/sim]\rSimulating:  47%|████▋     | 470\/1000 [19:25<20:13,  2.29s\/sim]\rSimulating:  47%|████▋     | 472\/1000 [19:30<20:24,  2.32s\/sim]\rSimulating:  47%|████▋     | 474\/1000 [19:34<20:23,  2.33s\/sim]\rSimulating:  48%|████▊     | 476\/1000 [19:39<20:43,  2.37s\/sim]\rSimulating:  48%|████▊     | 478\/1000 [19:44<21:00,  2.41s\/sim]\rSimulating:  48%|████▊     | 480\/1000 [19:49<20:50,  2.40s\/sim]\rSimulating:  48%|████▊     | 482\/1000 [19:54<20:49,  2.41s\/sim]\rSimulating:  48%|████▊     | 484\/1000 [19:59<20:42,  2.41s\/sim]\rSimulating:  49%|████▊     | 486\/1000 [20:04<20:52,  2.44s\/sim]\rSimulating:  49%|████▉     | 488\/1000 [20:08<19:44,  2.31s\/sim]\rSimulating:  49%|████▉     | 490\/1000 [20:12<19:24,  2.28s\/sim]\rSimulating:  49%|████▉     | 492\/1000 [20:17<19:50,  2.34s\/sim]\rSimulating:  49%|████▉     | 494\/1000 [20:22<19:49,  2.35s\/sim]\rSimulating:  50%|████▉     | 496\/1000 [20:26<19:22,  2.31s\/sim]\rSimulating:  50%|████▉     | 498\/1000 [20:31<19:46,  2.36s\/sim]\rSimulating:  50%|█████     | 500\/1000 [20:36<20:02,  2.41s\/sim]\rSimulating:  50%|█████     | 502\/1000 [20:41<19:56,  2.40s\/sim]\rSimulating:  50%|█████     | 504\/1000 [20:46<20:06,  2.43s\/sim]\rSimulating:  51%|█████     | 506\/1000 [20:51<19:54,  2.42s\/sim]\rSimulating:  51%|█████     | 508\/1000 [20:56<20:26,  2.49s\/sim]\rSimulating:  51%|█████     | 510\/1000 [21:01<19:56,  2.44s\/sim]\rSimulating:  51%|█████     | 512\/1000 [21:05<19:30,  2.40s\/sim]\rSimulating:  51%|█████▏    | 514\/1000 [21:10<19:10,  2.37s\/sim]\rSimulating:  52%|█████▏    | 516\/1000 [21:15<19:13,  2.38s\/sim]\rSimulating:  52%|█████▏    | 518\/1000 [21:20<19:16,  2.40s\/sim]\rSimulating:  52%|█████▏    | 520\/1000 [21:24<18:43,  2.34s\/sim]\rSimulating:  52%|█████▏    | 522\/1000 [21:29<19:09,  2.40s\/sim]\rSimulating:  52%|█████▏    | 524\/1000 [21:34<18:53,  2.38s\/sim]\rSimulating:  53%|█████▎    | 526\/1000 [21:39<19:25,  2.46s\/sim]\rSimulating:  53%|█████▎    | 528\/1000 [21:44<19:19,  2.46s\/sim]\rSimulating:  53%|█████▎    | 530\/1000 [21:49<18:47,  2.40s\/sim]\rSimulating:  53%|█████▎    | 532\/1000 [21:53<18:40,  2.39s\/sim]\rSimulating:  53%|█████▎    | 534\/1000 [21:58<18:47,  2.42s\/sim]\rSimulating:  54%|█████▎    | 536\/1000 [22:03<18:54,  2.45s\/sim]\rSimulating:  54%|█████▍    | 538\/1000 [22:08<18:10,  2.36s\/sim]\rSimulating:  54%|█████▍    | 540\/1000 [22:12<17:36,  2.30s\/sim]\rSimulating:  54%|█████▍    | 542\/1000 [22:16<17:31,  2.30s\/sim]\rSimulating:  54%|█████▍    | 544\/1000 [22:21<17:38,  2.32s\/sim]\rSimulating:  55%|█████▍    | 546\/1000 [22:26<17:26,  2.31s\/sim]\rSimulating:  55%|█████▍    | 548\/1000 [22:31<17:41,  2.35s\/sim]\rSimulating:  55%|█████▌    | 550\/1000 [22:35<17:42,  2.36s\/sim]\rSimulating:  55%|█████▌    | 552\/1000 [22:41<18:19,  2.46s\/sim]\rSimulating:  55%|█████▌    | 554\/1000 [22:46<18:27,  2.48s\/sim]\rSimulating:  56%|█████▌    | 556\/1000 [22:51<18:04,  2.44s\/sim]\rSimulating:  56%|█████▌    | 558\/1000 [22:55<17:41,  2.40s\/sim]\rSimulating:  56%|█████▌    | 560\/1000 [23:00<17:38,  2.41s\/sim]\rSimulating:  56%|█████▌    | 562\/1000 [23:05<17:25,  2.39s\/sim]\rSimulating:  56%|█████▋    | 564\/1000 [23:10<17:21,  2.39s\/sim]\rSimulating:  57%|█████▋    | 566\/1000 [23:15<17:48,  2.46s\/sim]\rSimulating:  57%|█████▋    | 568\/1000 [23:19<17:18,  2.40s\/sim]\rSimulating:  57%|█████▋    | 570\/1000 [23:25<17:37,  2.46s\/sim]\rSimulating:  57%|█████▋    | 572\/1000 [23:29<16:53,  2.37s\/sim]\rSimulating:  57%|█████▋    | 574\/1000 [23:34<16:57,  2.39s\/sim]\rSimulating:  58%|█████▊    | 576\/1000 [23:39<17:17,  2.45s\/sim]\rSimulating:  58%|█████▊    | 578\/1000 [23:44<17:39,  2.51s\/sim]\rSimulating:  58%|█████▊    | 580\/1000 [23:49<17:02,  2.44s\/sim]\rSimulating:  58%|█████▊    | 582\/1000 [23:54<17:07,  2.46s\/sim]\rSimulating:  58%|█████▊    | 584\/1000 [23:58<16:48,  2.43s\/sim]\rSimulating:  59%|█████▊    | 586\/1000 [24:03<16:06,  2.33s\/sim]\rSimulating:  59%|█████▉    | 588\/1000 [24:07<15:52,  2.31s\/sim]\rSimulating:  59%|█████▉    | 590\/1000 [24:12<15:39,  2.29s\/sim]\rSimulating:  59%|█████▉    | 592\/1000 [24:16<15:26,  2.27s\/sim]\rSimulating:  59%|█████▉    | 594\/1000 [24:21<16:01,  2.37s\/sim]\rSimulating:  60%|█████▉    | 596\/1000 [24:26<16:15,  2.42s\/sim]\rSimulating:  60%|█████▉    | 598\/1000 [24:31<16:02,  2.40s\/sim]\rSimulating:  60%|██████    | 600\/1000 [24:36<15:56,  2.39s\/sim]\rSimulating:  60%|██████    | 602\/1000 [24:41<16:06,  2.43s\/sim]\rSimulating:  60%|██████    | 604\/1000 [24:46<16:01,  2.43s\/sim]\rSimulating:  61%|██████    | 606\/1000 [24:50<15:44,  2.40s\/sim]\rSimulating:  61%|██████    | 608\/1000 [24:55<15:59,  2.45s\/sim]\rSimulating:  61%|██████    | 610\/1000 [25:00<15:36,  2.40s\/sim]\rSimulating:  61%|██████    | 612\/1000 [25:05<15:14,  2.36s\/sim]\rSimulating:  61%|██████▏   | 614\/1000 [25:09<14:50,  2.31s\/sim]\rSimulating:  62%|██████▏   | 616\/1000 [25:28<29:00,  4.53s\/sim]\rSimulating:  62%|██████▏   | 618\/1000 [25:50<40:47,  6.41s\/sim]\rSimulating:  62%|██████▏   | 620\/1000 [26:12<49:34,  7.83s\/sim]\rSimulating:  62%|██████▏   | 622\/1000 [26:31<51:58,  8.25s\/sim]\rSimulating:  62%|██████▏   | 624\/1000 [26:50<54:23,  8.68s\/sim]\rSimulating:  62%|██████▎   | 625\/1000 [26:50<44:55,  7.19s\/sim]\rSimulating:  63%|██████▎   | 626\/1000 [27:10<59:53,  9.61s\/sim]\rSimulating:  63%|██████▎   | 628\/1000 [27:27<58:00,  9.36s\/sim]\rSimulating:  63%|██████▎   | 630\/1000 [27:46<57:22,  9.30s\/sim]\rSimulating:  63%|██████▎   | 632\/1000 [28:03<55:52,  9.11s\/sim]\rSimulating:  63%|██████▎   | 634\/1000 [28:23<57:04,  9.36s\/sim]\rSimulating:  64%|██████▎   | 636\/1000 [28:45<59:58,  9.89s\/sim]\rSimulating:  64%|██████▍   | 638\/1000 [29:02<57:27,  9.52s\/sim]\rSimulating:  64%|██████▍   | 640\/1000 [29:21<56:59,  9.50s\/sim]\rSimulating:  64%|██████▍   | 642\/1000 [29:40<56:47,  9.52s\/sim]\rSimulating:  64%|██████▍   | 644\/1000 [29:59<55:53,  9.42s\/sim]\rSimulating:  65%|██████▍   | 646\/1000 [30:18<56:15,  9.53s\/sim]\rSimulating:  65%|██████▍   | 648\/1000 [30:37<55:12,  9.41s\/sim]\rSimulating:  65%|██████▌   | 650\/1000 [30:56<55:34,  9.53s\/sim]\rSimulating:  65%|██████▌   | 652\/1000 [31:16<55:56,  9.65s\/sim]\rSimulating:  65%|██████▌   | 654\/1000 [31:35<55:04,  9.55s\/sim]\rSimulating:  66%|██████▌   | 656\/1000 [31:55<55:23,  9.66s\/sim]\rSimulating:  66%|██████▌   | 658\/1000 [32:13<54:37,  9.58s\/sim]\rSimulating:  66%|██████▌   | 660\/1000 [32:33<54:15,  9.58s\/sim]\rSimulating:  66%|██████▌   | 662\/1000 [32:52<54:06,  9.61s\/sim]\rSimulating:  66%|██████▋   | 664\/1000 [33:11<53:54,  9.63s\/sim]\rSimulating:  67%|██████▋   | 666\/1000 [33:32<54:57,  9.87s\/sim]\rSimulating:  67%|██████▋   | 667\/1000 [33:32<45:21,  8.17s\/sim]\rSimulating:  67%|██████▋   | 668\/1000 [33:52<57:51, 10.46s\/sim]\rSimulating:  67%|██████▋   | 670\/1000 [34:13<57:57, 10.54s\/sim]\rSimulating:  67%|██████▋   | 672\/1000 [34:37<59:45, 10.93s\/sim]\rSimulating:  67%|██████▋   | 674\/1000 [35:04<1:04:22, 11.85s\/sim]\rSimulating:  68%|██████▊   | 676\/1000 [35:31<1:06:43, 12.36s\/sim]\rSimulating:  68%|██████▊   | 678\/1000 [35:52<1:03:17, 11.79s\/sim]\rSimulating:  68%|██████▊   | 680\/1000 [36:15<1:02:39, 11.75s\/sim]\rSimulating:  68%|██████▊   | 682\/1000 [36:34<58:26, 11.03s\/sim]  \rSimulating:  68%|██████▊   | 684\/1000 [36:52<54:18, 10.31s\/sim]\rSimulating:  69%|██████▊   | 686\/1000 [37:10<52:20, 10.00s\/sim]\rSimulating:  69%|██████▉   | 688\/1000 [37:26<48:32,  9.34s\/sim]\rSimulating:  69%|██████▉   | 690\/1000 [37:45<48:23,  9.37s\/sim]\rSimulating:  69%|██████▉   | 692\/1000 [38:04<48:37,  9.47s\/sim]\rSimulating:  69%|██████▉   | 694\/1000 [38:22<47:20,  9.28s\/sim]\rSimulating:  70%|██████▉   | 696\/1000 [38:42<48:07,  9.50s\/sim]\rSimulating:  70%|██████▉   | 698\/1000 [39:03<49:53,  9.91s\/sim]\rSimulating:  70%|███████   | 700\/1000 [39:23<49:30,  9.90s\/sim]\rSimulating:  70%|███████   | 702\/1000 [39:43<48:58,  9.86s\/sim]\rSimulating:  70%|███████   | 704\/1000 [40:02<48:26,  9.82s\/sim]\rSimulating:  71%|███████   | 706\/1000 [40:23<48:39,  9.93s\/sim]\rSimulating:  71%|███████   | 708\/1000 [40:39<45:51,  9.42s\/sim]\rSimulating:  71%|███████   | 710\/1000 [41:01<47:43,  9.87s\/sim]\rSimulating:  71%|███████   | 712\/1000 [41:18<45:44,  9.53s\/sim]\rSimulating:  71%|███████▏  | 713\/1000 [41:18<37:39,  7.87s\/sim]\rSimulating:  71%|███████▏  | 714\/1000 [41:39<50:00, 10.49s\/sim]\rSimulating:  72%|███████▏  | 716\/1000 [42:02<50:49, 10.74s\/sim]\rSimulating:  72%|███████▏  | 718\/1000 [42:20<47:55, 10.20s\/sim]\rSimulating:  72%|███████▏  | 720\/1000 [42:41<48:04, 10.30s\/sim]\rSimulating:  72%|███████▏  | 722\/1000 [43:01<46:55, 10.13s\/sim]\rSimulating:  72%|███████▏  | 724\/1000 [43:22<47:40, 10.36s\/sim]\rSimulating:  73%|███████▎  | 726\/1000 [43:45<48:48, 10.69s\/sim]\rSimulating:  73%|███████▎  | 727\/1000 [43:45<39:57,  8.78s\/sim]\rSimulating:  73%|███████▎  | 728\/1000 [44:06<50:41, 11.18s\/sim]\rSimulating:  73%|███████▎  | 730\/1000 [44:24<47:02, 10.45s\/sim]\rSimulating:  73%|███████▎  | 732\/1000 [44:45<46:39, 10.45s\/sim]\rSimulating:  73%|███████▎  | 734\/1000 [45:05<45:25, 10.25s\/sim]\rSimulating:  74%|███████▎  | 736\/1000 [45:23<43:32,  9.90s\/sim]\rSimulating:  74%|███████▍  | 738\/1000 [45:40<40:59,  9.39s\/sim]\rSimulating:  74%|███████▍  | 740\/1000 [45:59<41:23,  9.55s\/sim]\rSimulating:  74%|███████▍  | 742\/1000 [46:20<42:08,  9.80s\/sim]\rSimulating:  74%|███████▍  | 744\/1000 [46:41<42:26,  9.95s\/sim]\rSimulating:  75%|███████▍  | 746\/1000 [46:58<40:32,  9.58s\/sim]\rSimulating:  75%|███████▍  | 748\/1000 [47:20<41:49,  9.96s\/sim]\rSimulating:  75%|███████▌  | 750\/1000 [47:42<42:38, 10.23s\/sim]\rSimulating:  75%|███████▌  | 752\/1000 [48:00<40:49,  9.88s\/sim]\rSimulating:  75%|███████▌  | 754\/1000 [48:19<39:57,  9.75s\/sim]\rSimulating:  76%|███████▌  | 756\/1000 [48:36<38:33,  9.48s\/sim]\rSimulating:  76%|███████▌  | 758\/1000 [48:55<38:00,  9.42s\/sim]\rSimulating:  76%|███████▌  | 760\/1000 [49:15<38:28,  9.62s\/sim]\rSimulating:  76%|███████▌  | 762\/1000 [49:34<38:16,  9.65s\/sim]\rSimulating:  76%|███████▋  | 764\/1000 [49:54<38:04,  9.68s\/sim]\rSimulating:  77%|███████▋  | 766\/1000 [50:11<36:07,  9.26s\/sim]\rSimulating:  77%|███████▋  | 768\/1000 [50:30<36:09,  9.35s\/sim]\rSimulating:  77%|███████▋  | 770\/1000 [50:49<36:27,  9.51s\/sim]\rSimulating:  77%|███████▋  | 772\/1000 [51:08<35:44,  9.40s\/sim]\rSimulating:  77%|███████▋  | 774\/1000 [51:27<35:52,  9.52s\/sim]\rSimulating:  78%|███████▊  | 776\/1000 [51:48<36:26,  9.76s\/sim]\rSimulating:  78%|███████▊  | 778\/1000 [52:09<36:47,  9.94s\/sim]\rSimulating:  78%|███████▊  | 780\/1000 [52:29<36:54, 10.07s\/sim]\rSimulating:  78%|███████▊  | 782\/1000 [52:49<36:12,  9.96s\/sim]\rSimulating:  78%|███████▊  | 783\/1000 [52:49<29:46,  8.23s\/sim]\rSimulating:  78%|███████▊  | 784\/1000 [53:10<38:31, 10.70s\/sim]\rSimulating:  79%|███████▊  | 786\/1000 [53:30<37:17, 10.46s\/sim]\rSimulating:  79%|███████▉  | 788\/1000 [53:50<36:24, 10.31s\/sim]\rSimulating:  79%|███████▉  | 790\/1000 [54:09<35:25, 10.12s\/sim]\rSimulating:  79%|███████▉  | 792\/1000 [54:28<34:33,  9.97s\/sim]\rSimulating:  79%|███████▉  | 794\/1000 [54:49<34:48, 10.14s\/sim]\rSimulating:  80%|███████▉  | 796\/1000 [55:09<33:59, 10.00s\/sim]\rSimulating:  80%|███████▉  | 798\/1000 [55:28<33:29,  9.95s\/sim]\rSimulating:  80%|████████  | 800\/1000 [55:48<32:48,  9.84s\/sim]\rSimulating:  80%|████████  | 802\/1000 [56:08<32:55,  9.98s\/sim]\rSimulating:  80%|████████  | 804\/1000 [56:27<31:58,  9.79s\/sim]\rSimulating:  81%|████████  | 806\/1000 [56:48<32:31, 10.06s\/sim]\rSimulating:  81%|████████  | 808\/1000 [57:08<32:03, 10.02s\/sim]\rSimulating:  81%|████████  | 810\/1000 [57:23<29:22,  9.28s\/sim]\rSimulating:  81%|████████  | 812\/1000 [57:40<28:12,  9.00s\/sim]\rSimulating:  81%|████████▏ | 814\/1000 [58:01<29:10,  9.41s\/sim]\rSimulating:  82%|████████▏ | 816\/1000 [58:24<30:43, 10.02s\/sim]\rSimulating:  82%|████████▏ | 818\/1000 [58:42<29:42,  9.80s\/sim]\rSimulating:  82%|████████▏ | 820\/1000 [59:02<29:30,  9.84s\/sim]\rSimulating:  82%|████████▏ | 821\/1000 [59:02<24:14,  8.13s\/sim]\rSimulating:  82%|████████▏ | 822\/1000 [59:22<31:00, 10.45s\/sim]\rSimulating:  82%|████████▏ | 823\/1000 [59:22<24:02,  8.15s\/sim]\rSimulating:  82%|████████▏ | 824\/1000 [59:42<32:09, 10.96s\/sim]\rSimulating:  83%|████████▎ | 826\/1000 [1:00:04<31:44, 10.94s\/sim]\rSimulating:  83%|████████▎ | 828\/1000 [1:00:23<29:49, 10.40s\/sim]\rSimulating:  83%|████████▎ | 830\/1000 [1:00:44<29:35, 10.44s\/sim]\rSimulating:  83%|████████▎ | 832\/1000 [1:01:06<30:07, 10.76s\/sim]\rSimulating:  83%|████████▎ | 834\/1000 [1:01:28<29:44, 10.75s\/sim]\rSimulating:  84%|████████▎ | 836\/1000 [1:01:48<28:40, 10.49s\/sim]\rSimulating:  84%|████████▍ | 838\/1000 [1:02:05<26:56,  9.98s\/sim]\rSimulating:  84%|████████▍ | 840\/1000 [1:02:26<26:45, 10.03s\/sim]\rSimulating:  84%|████████▍ | 842\/1000 [1:02:45<26:13,  9.96s\/sim]\rSimulating:  84%|████████▍ | 844\/1000 [1:03:07<26:30, 10.19s\/sim]\rSimulating:  84%|████████▍ | 845\/1000 [1:03:07<21:42,  8.40s\/sim]\rSimulating:  85%|████████▍ | 846\/1000 [1:03:25<26:48, 10.45s\/sim]\rSimulating:  85%|████████▍ | 848\/1000 [1:03:46<26:25, 10.43s\/sim]\rSimulating:  85%|████████▌ | 850\/1000 [1:04:05<25:19, 10.13s\/sim]\rSimulating:  85%|████████▌ | 852\/1000 [1:04:24<24:13,  9.82s\/sim]\rSimulating:  85%|████████▌ | 854\/1000 [1:04:41<22:53,  9.41s\/sim]\rSimulating:  86%|████████▌ | 856\/1000 [1:04:58<21:50,  9.10s\/sim]\rSimulating:  86%|████████▌ | 858\/1000 [1:05:16<21:40,  9.16s\/sim]\rSimulating:  86%|████████▌ | 860\/1000 [1:05:34<21:03,  9.02s\/sim]\rSimulating:  86%|████████▌ | 862\/1000 [1:05:55<21:56,  9.54s\/sim]\rSimulating:  86%|████████▋ | 864\/1000 [1:06:15<21:59,  9.70s\/sim]\rSimulating:  87%|████████▋ | 866\/1000 [1:06:35<21:42,  9.72s\/sim]\rSimulating:  87%|████████▋ | 868\/1000 [1:06:54<21:13,  9.65s\/sim]\rSimulating:  87%|████████▋ | 870\/1000 [1:07:13<20:50,  9.62s\/sim]\rSimulating:  87%|████████▋ | 872\/1000 [1:07:30<19:56,  9.35s\/sim]\rSimulating:  87%|████████▋ | 874\/1000 [1:07:49<19:43,  9.39s\/sim]\rSimulating:  88%|████████▊ | 876\/1000 [1:08:10<19:53,  9.62s\/sim]\rSimulating:  88%|████████▊ | 878\/1000 [1:08:28<19:13,  9.46s\/sim]\rSimulating:  88%|████████▊ | 880\/1000 [1:08:46<18:41,  9.35s\/sim]\rSimulating:  88%|████████▊ | 881\/1000 [1:08:46<15:18,  7.72s\/sim]\rSimulating:  88%|████████▊ | 882\/1000 [1:09:04<19:19,  9.82s\/sim]\rSimulating:  88%|████████▊ | 884\/1000 [1:09:20<17:49,  9.22s\/sim]\rSimulating:  89%|████████▊ | 886\/1000 [1:09:39<17:26,  9.18s\/sim]\rSimulating:  89%|████████▊ | 887\/1000 [1:09:39<13:57,  7.41s\/sim]\rSimulating:  89%|████████▉ | 888\/1000 [1:09:58<18:45, 10.05s\/sim]\rSimulating:  89%|████████▉ | 890\/1000 [1:10:19<18:40, 10.18s\/sim]\rSimulating:  89%|████████▉ | 892\/1000 [1:10:38<17:46,  9.88s\/sim]\rSimulating:  89%|████████▉ | 894\/1000 [1:10:56<17:01,  9.63s\/sim]\rSimulating:  90%|████████▉ | 896\/1000 [1:11:14<16:20,  9.43s\/sim]\rSimulating:  90%|████████▉ | 898\/1000 [1:11:30<15:16,  8.99s\/sim]\rSimulating:  90%|█████████ | 900\/1000 [1:11:47<14:46,  8.87s\/sim]\rSimulating:  90%|█████████ | 902\/1000 [1:12:05<14:22,  8.80s\/sim]\rSimulating:  90%|█████████ | 903\/1000 [1:12:05<11:42,  7.24s\/sim]\rSimulating:  90%|█████████ | 904\/1000 [1:12:26<16:14, 10.15s\/sim]\rSimulating:  91%|█████████ | 906\/1000 [1:12:45<15:22,  9.81s\/sim]\rSimulating:  91%|█████████ | 908\/1000 [1:13:03<14:48,  9.66s\/sim]\rSimulating:  91%|█████████ | 910\/1000 [1:13:22<14:13,  9.48s\/sim]\rSimulating:  91%|█████████ | 912\/1000 [1:13:42<14:11,  9.67s\/sim]\rSimulating:  91%|█████████▏| 914\/1000 [1:14:00<13:42,  9.56s\/sim]\rSimulating:  92%|█████████▏| 916\/1000 [1:14:19<13:21,  9.54s\/sim]\rSimulating:  92%|█████████▏| 918\/1000 [1:14:40<13:25,  9.83s\/sim]\rSimulating:  92%|█████████▏| 920\/1000 [1:15:00<13:08,  9.85s\/sim]\rSimulating:  92%|█████████▏| 922\/1000 [1:15:21<13:06, 10.08s\/sim]\rSimulating:  92%|█████████▏| 923\/1000 [1:15:22<10:40,  8.31s\/sim]\rSimulating:  92%|█████████▏| 924\/1000 [1:15:40<13:14, 10.46s\/sim]\rSimulating:  93%|█████████▎| 926\/1000 [1:15:59<12:26, 10.08s\/sim]\rSimulating:  93%|█████████▎| 928\/1000 [1:16:18<11:48,  9.83s\/sim]\rSimulating:  93%|█████████▎| 930\/1000 [1:16:37<11:21,  9.73s\/sim]\rSimulating:  93%|█████████▎| 932\/1000 [1:16:59<11:27, 10.11s\/sim]\rSimulating:  93%|█████████▎| 934\/1000 [1:17:18<10:55,  9.93s\/sim]\rSimulating:  94%|█████████▎| 936\/1000 [1:17:37<10:25,  9.77s\/sim]\rSimulating:  94%|█████████▍| 938\/1000 [1:17:57<10:13,  9.89s\/sim]\rSimulating:  94%|█████████▍| 940\/1000 [1:18:14<09:27,  9.45s\/sim]\rSimulating:  94%|█████████▍| 942\/1000 [1:18:36<09:30,  9.84s\/sim]\rSimulating:  94%|█████████▍| 944\/1000 [1:18:58<09:38, 10.33s\/sim]\rSimulating:  95%|█████████▍| 946\/1000 [1:19:18<09:10, 10.20s\/sim]\rSimulating:  95%|█████████▍| 948\/1000 [1:19:37<08:38,  9.97s\/sim]\rSimulating:  95%|█████████▌| 950\/1000 [1:19:58<08:21, 10.04s\/sim]\rSimulating:  95%|█████████▌| 952\/1000 [1:20:17<07:55,  9.91s\/sim]\rSimulating:  95%|█████████▌| 954\/1000 [1:20:34<07:19,  9.56s\/sim]\rSimulating:  96%|█████████▌| 956\/1000 [1:20:54<07:02,  9.61s\/sim]\rSimulating:  96%|█████████▌| 958\/1000 [1:21:13<06:44,  9.62s\/sim]\rSimulating:  96%|█████████▌| 960\/1000 [1:21:32<06:21,  9.54s\/sim]\rSimulating:  96%|█████████▌| 962\/1000 [1:21:54<06:21, 10.03s\/sim]\rSimulating:  96%|█████████▋| 964\/1000 [1:22:16<06:13, 10.37s\/sim]\rSimulating:  97%|█████████▋| 966\/1000 [1:22:37<05:53, 10.39s\/sim]\rSimulating:  97%|█████████▋| 968\/1000 [1:22:59<05:35, 10.48s\/sim]\rSimulating:  97%|█████████▋| 970\/1000 [1:23:17<05:00, 10.03s\/sim]\rSimulating:  97%|█████████▋| 972\/1000 [1:23:38<04:45, 10.21s\/sim]\rSimulating:  97%|█████████▋| 974\/1000 [1:23:59<04:27, 10.28s\/sim]\rSimulating:  98%|█████████▊| 976\/1000 [1:24:20<04:07, 10.32s\/sim]\rSimulating:  98%|█████████▊| 978\/1000 [1:24:40<03:47, 10.35s\/sim]\rSimulating:  98%|█████████▊| 980\/1000 [1:25:02<03:31, 10.56s\/sim]\rSimulating:  98%|█████████▊| 982\/1000 [1:25:21<03:03, 10.19s\/sim]\rSimulating:  98%|█████████▊| 984\/1000 [1:25:42<02:45, 10.34s\/sim]\rSimulating:  99%|█████████▊| 986\/1000 [1:26:07<02:32, 10.87s\/sim]\rSimulating:  99%|█████████▉| 988\/1000 [1:26:25<02:04, 10.36s\/sim]\rSimulating:  99%|█████████▉| 990\/1000 [1:26:45<01:42, 10.23s\/sim]\rSimulating:  99%|█████████▉| 992\/1000 [1:27:04<01:19,  9.96s\/sim]\rSimulating:  99%|█████████▉| 994\/1000 [1:27:24<01:00, 10.00s\/sim]\rSimulating: 100%|█████████▉| 996\/1000 [1:27:45<00:40, 10.13s\/sim]\rSimulating: 100%|█████████▉| 998\/1000 [1:28:03<00:19,  9.83s\/sim]\rSimulating: 100%|██████████| 1000\/1000 [1:28:24<00:00,  9.99s\/sim]\rSimulating: 100%|██████████| 1000\/1000 [1:28:24<00:00,  5.30s\/sim]\n"
     ],
     "output_type":"stream"
    }
   ],
   "metadata":{
    "datalore":{
     "node_id":"HzuaTY5lFiFkaENDcSnMBB",
     "type":"CODE",
     "hide_input_from_viewers":false,
     "hide_output_from_viewers":false,
     "report_properties":{
      "rowId":"enbwKZxz0b9i0AxLGK8Z1m"
     }
    }
   }
  },
  {
   "cell_type":"code",
   "source":[
    "print(\"\\nAverage Sharpe Ratios (1000 Simulations):\")\n",
    "print(f\"Market Portfolio: {np.mean(sharpe_market_list):.4f}\")\n",
    "print(f\"1\/N Portfolio: {np.mean(sharpe_1N_list):.4f}\")\n",
    "print(f\"Mean-Variance Optimal Portfolio: {np.mean(sharpe_mv_list):.4f}\")\n",
    "print(f\"Global Minimum Variance Portfolio: {np.mean(sharpe_min_list):.4f}\")\n",
    "print(f\"James-Stein-Jorion Estimator: {np.mean(sharpe_jsj_list):.4f}\")\n",
    "print(f\"CAPM-based Portfolio: {np.mean(sharpe_CAPM_list):.4f}\")\n",
    "print(f\"No Short-Selling Portfolio: {np.mean(sharpe_cmv_list):.4f}\")"
   ],
   "execution_count":23,
   "outputs":[
    {
     "name":"stdout",
     "text":[
      "\n",
      "Average Sharpe Ratios (1000 Simulations):\n",
      "Market Portfolio: 0.1421\n",
      "1\/N Portfolio: 0.1378\n",
      "Mean-Variance Optimal Portfolio: 0.0587\n",
      "Global Minimum Variance Portfolio: 0.1117\n",
      "James-Stein-Jorion Estimator: 0.0811\n",
      "CAPM-based Portfolio: 0.1356\n",
      "No Short-Selling Portfolio: 0.1241\n"
     ],
     "output_type":"stream"
    }
   ],
   "metadata":{
    "datalore":{
     "node_id":"A9MGadNb7KLvRbjF6AqFQu",
     "type":"CODE",
     "hide_input_from_viewers":false,
     "hide_output_from_viewers":false,
     "report_properties":{
      "rowId":"TRDhq9rYf83tfSiuAxM8QD"
     }
    }
   }
  }
 ],
 "metadata":{
  "kernelspec":{
   "display_name":"Python",
   "language":"python",
   "name":"python"
  },
  "datalore":{
   "computation_mode":"REACTIVE",
   "package_manager":"pip",
   "base_environment":"default",
   "packages":[],
   "report_row_ids":[],
   "report_tabs":[
    {
     "id":"gSBCcHMZMf4lnlxFppxqIm",
     "name":"Report tab",
     "rows":[
      "7oB8pWb3lx0IBV7i7rDfSR",
      "N30FXppqxuuBl2apQhsoyy",
      "zp1QMzScFUMEjYvfXe0My1",
      "2vhebR0lt5uU1N0wcAHl56",
      "oH2SRmcgWdeT0Vu3LhYOjT",
      "7IU943w8g290bYsH25F1M5",
      "AKRlbHPxPk6GRgtrCkJ4Ka",
      "PxVesLvY7rb9JnyLUw4K3i",
      "HKHHVNbAZenB1zaMqWx6Wl",
      "k8iKp5FoTlL0pqre0jh8Ik",
      "BdKVdGM9FRnI23pTQGEoDI",
      "ZiwQjIioN466ljkM2367MD",
      "MKRMpGS85U0y9WxwR2MFBA",
      "pfN2dZwzg6QyOuGNOua809",
      "mwgE6f8edUiZbFnbLFsaD9",
      "8fs0bb5SnW10aMNPQwwiYg",
      "g29yNYHtm7RFYPcwKQknko",
      "R8mblmPdTyUScPtIsVaHsk",
      "UMdKU1MZjANMFw4iWPcESd",
      "ymXbSwCrzJzvOlGozqyHIo",
      "gb3iz50GcKhsBEq3T8ezDN",
      "enbwKZxz0b9i0AxLGK8Z1m",
      "TRDhq9rYf83tfSiuAxM8QD"
     ]
    }
   ],
   "version":4
  }
 },
 "nbformat":4,
 "nbformat_minor":4
}